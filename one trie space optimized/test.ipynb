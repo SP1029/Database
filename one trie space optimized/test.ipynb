{
 "cells": [
  {
   "cell_type": "code",
   "execution_count": 1,
   "metadata": {},
   "outputs": [],
   "source": [
    "\n",
    "import importlib\n",
    "import index\n",
    "importlib.reload(index)\n",
    "from index import Trie"
   ]
  },
  {
   "cell_type": "code",
   "execution_count": 16,
   "metadata": {},
   "outputs": [],
   "source": [
    "gt = Trie()"
   ]
  },
  {
   "cell_type": "code",
   "execution_count": 17,
   "metadata": {},
   "outputs": [],
   "source": [
    "gt.insert(\"jafif\", 0)"
   ]
  },
  {
   "cell_type": "code",
   "execution_count": 18,
   "metadata": {},
   "outputs": [],
   "source": [
    "gt.insert(\"jafit\", 1)"
   ]
  },
  {
   "cell_type": "code",
   "execution_count": 6,
   "metadata": {},
   "outputs": [],
   "source": [
    "gt.insert(\"jafifi\", 2)"
   ]
  },
  {
   "cell_type": "code",
   "execution_count": 7,
   "metadata": {},
   "outputs": [],
   "source": [
    "gt.insert(\"mfg\", 3)"
   ]
  },
  {
   "cell_type": "code",
   "execution_count": 27,
   "metadata": {},
   "outputs": [],
   "source": [
    "idx = gt.traverse(\"jafif\");"
   ]
  },
  {
   "cell_type": "code",
   "execution_count": 28,
   "metadata": {},
   "outputs": [
    {
     "name": "stdout",
     "output_type": "stream",
     "text": [
      "0 0 1\n"
     ]
    }
   ],
   "source": [
    "print(idx.disklocstart, idx.disklocend, idx.cnt)"
   ]
  },
  {
   "cell_type": "code",
   "execution_count": 133,
   "metadata": {},
   "outputs": [],
   "source": [
    "h = []"
   ]
  },
  {
   "cell_type": "code",
   "execution_count": 134,
   "metadata": {},
   "outputs": [],
   "source": [
    "h.extend(range(idx.disklocstart, idx.disklocend+1))"
   ]
  },
  {
   "cell_type": "code",
   "execution_count": 135,
   "metadata": {},
   "outputs": [
    {
     "data": {
      "text/plain": [
       "[0, 1, 2]"
      ]
     },
     "execution_count": 135,
     "metadata": {},
     "output_type": "execute_result"
    }
   ],
   "source": [
    "h"
   ]
  },
  {
   "cell_type": "code",
   "execution_count": 137,
   "metadata": {},
   "outputs": [
    {
     "data": {
      "text/plain": [
       "list"
      ]
     },
     "execution_count": 137,
     "metadata": {},
     "output_type": "execute_result"
    }
   ],
   "source": [
    "type(h)"
   ]
  },
  {
   "cell_type": "code",
   "execution_count": 138,
   "metadata": {},
   "outputs": [],
   "source": [
    "g = [7,9,5,7,7]"
   ]
  },
  {
   "cell_type": "code",
   "execution_count": 139,
   "metadata": {},
   "outputs": [
    {
     "ename": "TypeError",
     "evalue": "list indices must be integers or slices, not list",
     "output_type": "error",
     "traceback": [
      "\u001b[1;31m---------------------------------------------------------------------------\u001b[0m",
      "\u001b[1;31mTypeError\u001b[0m                                 Traceback (most recent call last)",
      "Cell \u001b[1;32mIn[139], line 1\u001b[0m\n\u001b[1;32m----> 1\u001b[0m \u001b[43mg\u001b[49m\u001b[43m[\u001b[49m\u001b[43mh\u001b[49m\u001b[43m]\u001b[49m\n",
      "\u001b[1;31mTypeError\u001b[0m: list indices must be integers or slices, not list"
     ]
    }
   ],
   "source": [
    "g[h]"
   ]
  },
  {
   "cell_type": "code",
   "execution_count": 33,
   "metadata": {},
   "outputs": [],
   "source": [
    "f = Trie()\n",
    "f.insert(\"jejof\", 0)\n",
    "f.insert(\"jejof\", 1)\n",
    "f.insert(\"jejof\", 2)"
   ]
  },
  {
   "cell_type": "code",
   "execution_count": 34,
   "metadata": {},
   "outputs": [],
   "source": [
    "f.insert(\"jejos\", 3)"
   ]
  },
  {
   "cell_type": "code",
   "execution_count": 37,
   "metadata": {},
   "outputs": [],
   "source": [
    "idx = f.traverse(\"jejos\")"
   ]
  },
  {
   "cell_type": "code",
   "execution_count": 38,
   "metadata": {},
   "outputs": [
    {
     "name": "stdout",
     "output_type": "stream",
     "text": [
      "3 3 1\n"
     ]
    }
   ],
   "source": [
    "print(idx.disklocstart, idx.disklocend, idx.cnt)"
   ]
  },
  {
   "cell_type": "code",
   "execution_count": 43,
   "metadata": {},
   "outputs": [],
   "source": [
    "data = [\n",
    "    (\"jefof\", 148411),\n",
    "    (\"jefof\", 148412),\n",
    "    (\"jefof\", 148413),\n",
    "    (\"jefof\", 148414),\n",
    "    (\"jefof\", 148415),\n",
    "    (\"jefof\", 148416),\n",
    "    (\"jefof\", 148417),\n",
    "    (\"jefof\", 148418),\n",
    "    (\"jefof\", 148419),\n",
    "    (\"jefof\", 148420),\n",
    "    (\"jefof\", 148421),\n",
    "    (\"jefof\", 148422),\n",
    "    (\"jefof\", 148423),\n",
    "    (\"jefof\", 148424),\n",
    "    (\"jefof\", 148425),\n",
    "    (\"jefof\", 148426),\n",
    "    (\"jefof\", 148427),\n",
    "    (\"jefof\", 148428),\n",
    "    (\"jefof\", 148429),\n",
    "    (\"jefoi\", 148430),\n",
    "    (\"jefoi\", 148431),\n",
    "    (\"jefoif\", 148432),\n",
    "    (\"jefoif\", 148433),\n",
    "    (\"jefoij\", 148434),\n",
    "    (\"jefoij\", 148435),\n",
    "    (\"jefoil\", 148436),\n",
    "    (\"jefoil\", 148437),\n",
    "    (\"jefois\", 148438),\n",
    "    (\"jefois\", 148439),\n",
    "    (\"jefois\", 148440),\n",
    "    (\"jefoj\", 148441),\n",
    "    (\"jefoj\", 148442),\n",
    "    (\"jefoj\", 148443),\n",
    "    (\"jefoj\", 148444),\n",
    "    (\"jefoj\", 148445),\n",
    "    (\"jefoj\", 148446),\n",
    "    (\"jefoj\", 148447),\n",
    "    (\"jefoj\", 148448),\n",
    "    (\"jefoj\", 148449),\n",
    "    (\"jefoj\", 148450),\n",
    "    (\"jefoj\", 148451),\n",
    "    (\"jefoj\", 148452),\n",
    "    (\"jefoj\", 148453),\n",
    "    (\"jefoj\", 148454),\n",
    "    (\"jefoj\", 148455),\n",
    "    (\"jefoj\", 148456),\n",
    "    (\"jefoj\", 148457),\n",
    "    (\"jefoj\", 148458),\n",
    "    (\"jefol\", 148459),\n",
    "    (\"jefol\", 148460),\n",
    "    (\"jefol\", 148461),\n",
    "    (\"jefol\", 148462),\n",
    "    (\"jefoo\", 148463),\n",
    "    (\"jefoo\", 148464),\n",
    "    (\"jefoo\", 148465),\n",
    "    (\"jefoo\", 148466),\n",
    "    (\"jefoo\", 148467),\n",
    "    (\"jefooj\", 148468),\n",
    "    (\"jefool\", 148469),\n",
    "    (\"jefor\", 148470),\n",
    "    (\"jefor\", 148471),\n",
    "    (\"jefos\", 148472),\n",
    "    (\"jefos\", 148473),\n",
    "    (\"jefos\", 148474),\n",
    "    (\"jefos\", 148475),\n",
    "    (\"jefos\", 148476),\n",
    "    (\"jefos\", 148477),\n",
    "    (\"jefos\", 148478),\n",
    "    (\"jefos\", 148479),\n",
    "    (\"jefos\", 148480),\n",
    "    (\"jefos\", 148481),\n",
    "    (\"jefos\", 148482),\n",
    "    (\"jefos\", 148483),\n",
    "    (\"jefos\", 148484),\n",
    "    (\"jefos\", 148485),\n",
    "    (\"jefou\", 148486),\n",
    "    (\"jefou\", 148487),\n",
    "    (\"jefou\", 148488),\n",
    "    (\"jefou\", 148489),\n",
    "    (\"jefou\", 148490)\n",
    "]\n"
   ]
  },
  {
   "cell_type": "code",
   "execution_count": 45,
   "metadata": {},
   "outputs": [
    {
     "name": "stdout",
     "output_type": "stream",
     "text": [
      "148441 148458 18\n"
     ]
    }
   ],
   "source": [
    "f = Trie()\n",
    "for i in data:\n",
    "    f.insert(i[0], i[1]);\n",
    "\n",
    "idx = f.traverse(\"jefoj\")\n",
    "print(idx.disklocstart, idx.disklocend, idx.cnt)"
   ]
  },
  {
   "cell_type": "code",
   "execution_count": null,
   "metadata": {},
   "outputs": [],
   "source": []
  }
 ],
 "metadata": {
  "kernelspec": {
   "display_name": "Python 3",
   "language": "python",
   "name": "python3"
  },
  "language_info": {
   "codemirror_mode": {
    "name": "ipython",
    "version": 3
   },
   "file_extension": ".py",
   "mimetype": "text/x-python",
   "name": "python",
   "nbconvert_exporter": "python",
   "pygments_lexer": "ipython3",
   "version": "3.12.2"
  }
 },
 "nbformat": 4,
 "nbformat_minor": 2
}
