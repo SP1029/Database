{
 "cells": [
  {
   "cell_type": "code",
   "execution_count": 2,
   "metadata": {},
   "outputs": [],
   "source": [
    "\n",
    "import importlib\n",
    "import index\n",
    "importlib.reload(index)\n",
    "from index import Trie"
   ]
  },
  {
   "cell_type": "code",
   "execution_count": 3,
   "metadata": {},
   "outputs": [
    {
     "name": "stdout",
     "output_type": "stream",
     "text": [
      "0 j\n",
      "Disk locations for prefix 'jafif': (0, 2)\n",
      "Disk locations for exact 'jafif': (0, 1)\n",
      "0 j\n",
      "5 i\n",
      "Disk locations for prefix 'jafifi': (2, 2)\n",
      "Disk locations for exact 'jafifi': (2, 2)\n",
      "0 m\n",
      "Disk locations for prefix 'mfg': (3, 3)\n",
      "Disk locations for exact 'mfg': (3, 3)\n"
     ]
    }
   ],
   "source": [
    "# Initialize the Radix Tree\n",
    "gt = Trie()\n",
    "\n",
    "# Insert words with their disk locations\n",
    "gt.insert(\"jafif\", 0)\n",
    "gt.insert(\"jafif\", 1)\n",
    "gt.insert(\"jafifi\", 2)\n",
    "gt.insert(\"mfg\", 3)\n",
    "\n",
    "# Function to retrieve disk location ranges\n",
    "def get_disk_locations(node):\n",
    "    \"\"\"\n",
    "    Retrieves disk locations for words with the given prefix and exact matches.\n",
    "\n",
    "    Parameters:\n",
    "    - node (RadixNode): The node corresponding to the prefix.\n",
    "\n",
    "    Returns:\n",
    "    - tuple: (range of disk locations for prefix, range for exact matches)\n",
    "    \"\"\"\n",
    "    if node is None:\n",
    "        return None, None\n",
    "    prefix_range = (node.disklocstart, node.disklocend)\n",
    "    exact_range = (node.disklocstart, node.disklocstart + node.cnt - 1) if node.cnt > 0 else None\n",
    "    return prefix_range, exact_range\n",
    "\n",
    "# Traverse to the node corresponding to \"jafif\"\n",
    "prefix_node = gt.traverse(\"jafif\")\n",
    "prefix_range, exact_range = get_disk_locations(prefix_node)\n",
    "print(f\"Disk locations for prefix 'jafif': {prefix_range}\")     # Expected: (0, 2)\n",
    "print(f\"Disk locations for exact 'jafif': {exact_range}\")      # Expected: (0, 1)\n",
    "\n",
    "# Additionally, get disk locations for \"jafifi\"\n",
    "exact_jafifi_node = gt.traverse(\"jafifi\")\n",
    "prefix_jafifi_range, exact_jafifi_range = get_disk_locations(exact_jafifi_node)\n",
    "print(f\"Disk locations for prefix 'jafifi': {prefix_jafifi_range}\")  # Expected: (2, 2)\n",
    "print(f\"Disk locations for exact 'jafifi': {exact_jafifi_range}\")    # Expected: (2, 2)\n",
    "\n",
    "# Get disk locations for \"mfg\"\n",
    "prefix_mfg_node = gt.traverse(\"mfg\")\n",
    "prefix_mfg_range, exact_mfg_range = get_disk_locations(prefix_mfg_node)\n",
    "print(f\"Disk locations for prefix 'mfg': {prefix_mfg_range}\")        # Expected: (3, 3)\n",
    "print(f\"Disk locations for exact 'mfg': {exact_mfg_range}\")          # Expected: (3, 3)\n"
   ]
  },
  {
   "cell_type": "code",
   "execution_count": 4,
   "metadata": {},
   "outputs": [],
   "source": [
    "ins = ['baefe', 'bhejuc', 'bocuj', 'bolo', 'ceujai', 'dhifar', 'drujof', 'druula', 'dyufol', 'fecaj', 'fijos', 'foasyes', 'fogib', 'fuja', 'gyaofuis', 'jaofo', 'jeghi', 'jenof', 'joji', 'khufoas', 'loifa', 'nejes', 'shafol', 'shuebe', 'sujeej']"
   ]
  },
  {
   "cell_type": "code",
   "execution_count": 5,
   "metadata": {},
   "outputs": [
    {
     "name": "stdout",
     "output_type": "stream",
     "text": [
      "0 c\n",
      "Disk locations for prefix 'c': None\n",
      "Disk locations for exact 'c': None\n"
     ]
    }
   ],
   "source": [
    "# Initialize the Radix Tree\n",
    "gt = Trie()\n",
    "\n",
    "# Insert words with their disk locations\n",
    "for i, it in enumerate(ins):\n",
    "    gt.insert(it, i)\n",
    "\n",
    "# Function to retrieve disk location ranges\n",
    "def get_disk_locations(node):\n",
    "    \"\"\"\n",
    "    Retrieves disk locations for words with the given prefix and exact matches.\n",
    "\n",
    "    Parameters:\n",
    "    - node (RadixNode): The node corresponding to the prefix.\n",
    "\n",
    "    Returns:\n",
    "    - tuple: (range of disk locations for prefix, range for exact matches)\n",
    "    \"\"\"\n",
    "    if node is None:\n",
    "        return None, None\n",
    "    prefix_range = (node.disklocstart, node.disklocend)\n",
    "    exact_range = (node.disklocstart, node.disklocstart + node.cnt - 1) if node.cnt > 0 else None\n",
    "    return prefix_range, exact_range\n",
    "\n",
    "# Traverse to the node corresponding to \"jafif\"\n",
    "\n",
    "prefix_node = gt.traverse(\"c\")\n",
    "prefix_range, exact_range = get_disk_locations(prefix_node)\n",
    "print(f\"Disk locations for prefix 'c': {prefix_range}\")     # Expected: (0, 2)\n",
    "print(f\"Disk locations for exact 'c': {exact_range}\")      # Expected: (0, 1)\n",
    "\n",
    "# Additionally, get disk locations for \"jafifi\"\n",
    "# exact_jafifi_node = gt.traverse(\"jafifi\")\n",
    "# prefix_jafifi_range, exact_jafifi_range = get_disk_locations(exact_jafifi_node)\n",
    "# print(f\"Disk locations for prefix 'jafifi': {prefix_jafifi_range}\")  # Expected: (2, 2)\n",
    "# print(f\"Disk locations for exact 'jafifi': {exact_jafifi_range}\")    # Expected: (2, 2)\n",
    "\n",
    "# # Get disk locations for \"mfg\"\n",
    "# prefix_mfg_node = gt.traverse(\"mfg\")\n",
    "# prefix_mfg_range, exact_mfg_range = get_disk_locations(prefix_mfg_node)\n",
    "# print(f\"Disk locations for prefix 'mfg': {prefix_mfg_range}\")        # Expected: (3, 3)\n",
    "# print(f\"Disk locations for exact 'mfg': {exact_mfg_range}\")          # Expected: (3, 3)\n"
   ]
  },
  {
   "cell_type": "code",
   "execution_count": 6,
   "metadata": {},
   "outputs": [
    {
     "name": "stdout",
     "output_type": "stream",
     "text": [
      "['baefe', 'bhejuc', 'bocuj', 'bolo', 'ceujai', 'dhifar', 'drujof', 'druula', 'dyufol', 'fecaj', 'fijos', 'foasyes', 'fogib', 'fuja', 'gyaofuis', 'jaofo', 'jeghi', 'jenof', 'joji', 'khufoas', 'loifa', 'nejes', 'shafol', 'shuebe', 'sujeej']\n"
     ]
    }
   ],
   "source": [
    "print(gt.get_all_words())"
   ]
  },
  {
   "cell_type": "code",
   "execution_count": null,
   "metadata": {},
   "outputs": [],
   "source": []
  }
 ],
 "metadata": {
  "kernelspec": {
   "display_name": "Python 3",
   "language": "python",
   "name": "python3"
  },
  "language_info": {
   "codemirror_mode": {
    "name": "ipython",
    "version": 3
   },
   "file_extension": ".py",
   "mimetype": "text/x-python",
   "name": "python",
   "nbconvert_exporter": "python",
   "pygments_lexer": "ipython3",
   "version": "3.12.2"
  }
 },
 "nbformat": 4,
 "nbformat_minor": 2
}
